{
 "cells": [
  {
   "cell_type": "markdown",
   "metadata": {},
   "source": [
    "# Cleaning\n",
    "\n",
    "This notebook tests and describes the procedures for cleaning the NOTAMs."
   ]
  },
  {
   "cell_type": "markdown",
   "metadata": {},
   "source": [
    "## Preamble"
   ]
  },
  {
   "cell_type": "code",
   "execution_count": 481,
   "metadata": {},
   "outputs": [],
   "source": [
    "# load basic libraries\n",
    "import numpy as np\n",
    "import os\n",
    "import sys\n",
    "import re\n",
    "import pandas as pd\n",
    "from importlib import reload\n",
    "\n",
    "# add ./python to python path\n",
    "sys.path.insert(0, '../python')\n",
    "\n",
    "# load local libraries\n",
    "import cleaning\n",
    "import text_processing"
   ]
  },
  {
   "cell_type": "markdown",
   "metadata": {},
   "source": [
    "## Options"
   ]
  },
  {
   "cell_type": "code",
   "execution_count": 482,
   "metadata": {},
   "outputs": [],
   "source": [
    "# options\n",
    "data_dir = '../0_data'"
   ]
  },
  {
   "cell_type": "markdown",
   "metadata": {},
   "source": [
    "## Data cleaning\n",
    "\n",
    "The steps below describe how to run the cleaning workflow."
   ]
  },
  {
   "cell_type": "code",
   "execution_count": 489,
   "metadata": {},
   "outputs": [
    {
     "name": "stdout",
     "output_type": "stream",
     "text": [
      "Reading file...done (found 98547 NOTAMs).\n",
      "Splitting items...done.\n",
      "Cleaning unstructured part...done.\n",
      "Writting file...done.\n"
     ]
    }
   ],
   "source": [
    "# takes into account changes\n",
    "# made in the cleaning.py file\n",
    "reload(cleaning)\n",
    "\n",
    "# create cleaner object\n",
    "cleaner = cleaning.Cleaning()\n",
    "\n",
    "# read the data\n",
    "cleaner.read(data_dir+'/23-08-2018/Export.txt')\n",
    "\n",
    "# split the NOTAM into items\n",
    "cleaner.split()\n",
    "\n",
    "# clean the structured and unstructured parts\n",
    "cleaner.clean()\n",
    "\n",
    "cleaner.write(data_dir+'/23-08-2018/clean.csv')"
   ]
  },
  {
   "cell_type": "markdown",
   "metadata": {},
   "source": [
    "## Tests\n",
    "\n",
    "The section performs a few tests."
   ]
  },
  {
   "cell_type": "code",
   "execution_count": 484,
   "metadata": {},
   "outputs": [],
   "source": [
    "# get the data frame\n",
    "df = cleaner.get_df()"
   ]
  },
  {
   "cell_type": "code",
   "execution_count": 485,
   "metadata": {},
   "outputs": [
    {
     "name": "stdout",
     "output_type": "stream",
     "text": [
      "458\n"
     ]
    }
   ],
   "source": [
    "# number of None entries\n",
    "print(sum(df['text_clean'].values == ''))"
   ]
  },
  {
   "cell_type": "code",
   "execution_count": 486,
   "metadata": {},
   "outputs": [],
   "source": [
    "# Text processing module \n",
    "# provided by Joao at SWISS.\n",
    "# Modified so that it returns\n",
    "# the processed text in the \n",
    "# \"text_azureml\" column\n",
    "\n",
    "reload(text_processing)\n",
    "_ = text_processing.azureml_main(df)"
   ]
  },
  {
   "cell_type": "code",
   "execution_count": 487,
   "metadata": {},
   "outputs": [
    {
     "name": "stdout",
     "output_type": "stream",
     "text": [
      "SELCAL FREQ 10024 KHZ U/S\n",
      "\n",
      "selcal freq <num> khz u s\n"
     ]
    }
   ],
   "source": [
    "# load cleaning module\n",
    "reload(cleaning)\n",
    "\n",
    "# show one example\n",
    "# on one NOTAM\n",
    "text =  df['text'].iloc[119]\n",
    "acronyms_dict = cleaning.load_acronyms_dict()\n",
    "text_clean = cleaning.clean_unstructured(text, acronyms_dict)\n",
    "\n",
    "print(text+'\\n')\n",
    "print(text_clean)"
   ]
  },
  {
   "cell_type": "code",
   "execution_count": 488,
   "metadata": {},
   "outputs": [
    {
     "name": "stdout",
     "output_type": "stream",
     "text": [
      "(TDM TRK K 180701050001  1807010500 1807012100  DINTY CUNDU 33N140W 33N150W 32N160W 29N170W 28N180E 27N170E  26N160E 25N150E 24N140E TUNTO  RTS/KLAX DINTY  TUNTO R595 SEDKU  TUNTO IGURU  TUNTO GUMBO  RMK/NO TRK ADVISORY FOR TRK K TONIGHT  ALTITUDE MAY BE RESTRICTED WHILE CROSSING ATS ROUTES\n",
      " TDM TRK K <number>  <number> <number>  DINTY CUNDU <coordinate> <coordinate> <coordinate> <coordinate> <coordinate> <coordinate>  <coordinate> <coordinate> <coordinate> TUNTO  RTS KLAX DINTY  TUNTO R<number> SEDKU  TUNTO IGURU  TUNTO GUMBO  REMARK NO TRK ADVISORY FOR TRK K TONIGHT  ALTITUDE MAY BE RESTRICTED WHILE CROSSING ATS ROUTES\n",
      " tdm trk k <num> <num> <num> dinty cundu <coord> <coord> <coord> <coord> <coord> <coord> <coord> <coord> <coord> tunto rts klax dinty tunto r<num> sedku tunto iguru tunto gumbo rmk no trk advisory for trk k tonight alt may be restricted while crossing ats routes\n",
      "\n",
      "(TDM TRK J 180701050001  1807010500 1807012100  BOXER KYLLE KANUA KURTT KATCH LOHNE ARCAL 59N160W ONEOX NULUK  NANDY NATES NIKLL NYMPH NUZAN NIPPI  RTS/KSFO GNNRR STINS AMAKR BOXER  KLAX MCKEY LIBBO BRINY BOARS BOXER  NIPPI R220 NANAC  RMK/NO TRK ADVISORY FOR TRK J TONIGHT\n",
      " TDM TRK J <number>  <number> <number>  BOXER KYLLE KANUA KURTT KATCH LOHNE ARCAL <coordinate> ONEOX NULUK  NANDY NATES NIKLL NYMPH NUZAN NIPPI  RTS KSFO GNNRR STINS AMAKR BOXER  KLAX MCKEY LIBBO BRINY BOARS BOXER  NIPPI R<number> NANAC  REMARK NO TRK ADVISORY FOR TRK J TONIGHT\n",
      " tdm trk j <num> <num> <num> boxer kylle kanua kurtt katch lohne arcal <coord> oneox nuluk nandy nates nikll nymph nuzan nippi rts ksfo gnnrr stins amakr boxer klax mckey libbo briny boars boxer nippi r<num> nanac rmk no trk advisory for trk j tonight\n",
      "\n",
      "(TDM TRK 8 180701070001  1807010700 1807012100  KALNA 43N160E 45N170E 48N180E 50N170W 52N160W 53N150W 52N140W  MANJO  RTS/ONION OTR5 KALNA  MANJO NAKBI EPTIV UPR KDFW  RMK/0\n",
      " TDM TRK <number> <number>  <number> <number>  KALNA <coordinate> <coordinate> <coordinate> <coordinate> <coordinate> <coordinate> <coordinate>  MANJO  RTS ONION OTR<number> KALNA  MANJO NAKBI EPTIV UPR KDFW  REMARK <number>\n",
      " tdm trk <num> <num> <num> <num> kalna <coord> <coord> <coord> <coord> <coord> <coord> <coord> manjo rts onion otr<num> kalna manjo nakbi eptiv upr kdfw rmk <num>\n",
      "\n",
      "SELCAL FREQ 10024 KHZ U/S\n",
      "SELCAL FREQUENCY <frequency> UNSERVICEABLE\n",
      "selcal freq <num> khz u s\n",
      "\n",
      "CHECKLIST YEAR=2013 0155 0157 YEAR=2014 0221 YEAR=2015 0037 0058 0060 0065 0067 0318 0376 0378 YEAR=2016 0008 0015 0017 0043 0045 0047 0069 0147 YEAR=2018 0035 0036 0037 0039 0050 0055 0056 0057 0073 0077 0080  0081 0085 0087 0088 0089 0090 0092 LASTEST PUBLICATIONS AIP SUP A004/16 A005/16 A003/17 A004/17 006/17         007/17 008/17 009/17 010/17 011/17         012/17 014/17 015/17 016/17 018/17         019/17 020/17 021/17 001/18 002/18         004/17 005/18 006/18 007/18 AIC:A0003/17 A0004/17 A0005/17 A0001/18\n",
      "CHECKLIST YEAR <number> <number> <number> YEAR <number> <number> YEAR <number> <number> <number> <number> <number> <number> <number> <number> <number> YEAR <number> <number> <number> <number> <number> <number> <number> <number> <number> YEAR <number> <number> <number> <number> <number> <number> <number> <number> <number> <number> <number> <number>  <number> <number> <number> <number> <number> <number> <number> LASTEST PUBLICATIONS AIP SUP A<number> <number> A<number> <number> A<number> <number> A<number> <number> <number> <number>         <number> <number> <number> <number> <number> <number> <number> <number> <number> <number>         <number> <number> <number> <number> <number> <number> <number> <number> <number> <number>         <number> <number> <number> <number> <number> <number> <number> <number> <number> <number>         <number> <number> <number> <number> <number> <number> <number> <number> AIC A<number> <number> A<number> <number> A<number> <number> A<number> <number>\n",
      "checklist year <num> <num> <num> year <num> <num> year <num> <num> <num> <num> <num> <num> <num> <num> <num> year <num> <num> <num> <num> <num> <num> <num> <num> <num> year <num> <num> <num> <num> <num> <num> <num> <num> <num> <num> <num> <num> <num> <num> <num> <num> <num> <num> <num> lastest publications aip sup a<num> <num> a<num> <num> a<num> <num> a<num> <num> <num> <num> <num> <num> <num> <num> <num> <num> <num> <num> <num> <num> <num> <num> <num> <num> <num> <num> <num> <num> <num> <num> <num> <num> <num> <num> <num> <num> <num> <num> <num> <num> <num> <num> <num> <num> <num> <num> <num> <num> aic a<num> <num> a<num> <num> a<num> <num> a<num> <num>\n",
      "\n"
     ]
    }
   ],
   "source": [
    "# show additional tests\n",
    "for i in range(116, 121):\n",
    "    print(df.iloc[i]['text'])\n",
    "    print(df.iloc[i]['text_azureml'])\n",
    "    print(df.iloc[i]['text_clean']+'\\n')"
   ]
  }
 ],
 "metadata": {
  "kernelspec": {
   "display_name": "Python 3",
   "language": "python",
   "name": "python3"
  },
  "language_info": {
   "codemirror_mode": {
    "name": "ipython",
    "version": 3
   },
   "file_extension": ".py",
   "mimetype": "text/x-python",
   "name": "python",
   "nbconvert_exporter": "python",
   "pygments_lexer": "ipython3",
   "version": "3.5.5"
  }
 },
 "nbformat": 4,
 "nbformat_minor": 2
}
