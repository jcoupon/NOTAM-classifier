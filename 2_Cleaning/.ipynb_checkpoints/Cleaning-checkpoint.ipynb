{
 "cells": [
  {
   "cell_type": "markdown",
   "metadata": {},
   "source": [
    "# Cleaning\n",
    "\n",
    "This notebook tests and describes the procedures for cleaning the NOTAMs."
   ]
  },
  {
   "cell_type": "markdown",
   "metadata": {},
   "source": [
    "## Preamble"
   ]
  },
  {
   "cell_type": "code",
   "execution_count": 33,
   "metadata": {},
   "outputs": [],
   "source": [
    "# load basic libraries\n",
    "import numpy as np\n",
    "import os\n",
    "import sys\n",
    "import re\n",
    "import pandas as pd\n",
    "from importlib import reload\n",
    "\n",
    "# add ./python to python path\n",
    "sys.path.insert(0, '../python')\n",
    "\n",
    "# load local libraries\n",
    "import cleaning\n",
    "import text_processing"
   ]
  },
  {
   "cell_type": "markdown",
   "metadata": {},
   "source": [
    "## Options"
   ]
  },
  {
   "cell_type": "code",
   "execution_count": 11,
   "metadata": {},
   "outputs": [],
   "source": [
    "# options\n",
    "data_dir = '../0_data'"
   ]
  },
  {
   "cell_type": "markdown",
   "metadata": {},
   "source": [
    "## Data cleaning"
   ]
  },
  {
   "cell_type": "code",
   "execution_count": 343,
   "metadata": {},
   "outputs": [
    {
     "name": "stdout",
     "output_type": "stream",
     "text": [
      "Read 98547 NOTAMs\n"
     ]
    }
   ],
   "source": [
    "reload(cleaning)\n",
    "\n",
    "# create cleaner object\n",
    "cleaner = cleaning.Cleaning()\n",
    "\n",
    "# read the data\n",
    "cleaner.read(data_dir+'/23-08-2018/Export.txt')\n",
    "print('Read {} NOTAMs'.format(cleaner.N))\n",
    "\n",
    "# split the NOTAM into items\n",
    "cleaner.split()\n",
    "\n",
    "# process unstructured\n",
    "# cleaner.process_E()"
   ]
  },
  {
   "cell_type": "code",
   "execution_count": 344,
   "metadata": {},
   "outputs": [],
   "source": [
    "# get the data frame\n",
    "df = cleaner.get_df()"
   ]
  },
  {
   "cell_type": "code",
   "execution_count": 345,
   "metadata": {},
   "outputs": [
    {
     "name": "stdout",
     "output_type": "stream",
     "text": [
      "458\n"
     ]
    }
   ],
   "source": [
    "# number of None entries\n",
    "print(sum(df['text'].values == ''))"
   ]
  },
  {
   "cell_type": "code",
   "execution_count": 347,
   "metadata": {},
   "outputs": [],
   "source": [
    "reload(text_processing)\n",
    "_ = text_processing.azureml_main(df)"
   ]
  },
  {
   "cell_type": "code",
   "execution_count": 352,
   "metadata": {},
   "outputs": [
    {
     "name": "stdout",
     "output_type": "stream",
     "text": [
      "RWY 04 5/5/5 100 PCT WET OBS AT 1806302227. \n",
      " <runway> <number> <number> <number> <number> PCT WET OBS AT <number>  \n",
      "\n",
      "ACT MIL AREA MMR- 414-A \n",
      " ACTIVE MILITARY AREA MMR  <number> A \n",
      "\n",
      "ALS RWY 19 OPR CADA 60M \n",
      " ALS <runway> OPR CADA <distance> \n",
      "\n",
      "TWY D CLSD \n",
      " TAXIWAY D CLOSED \n",
      "\n",
      "TWY C BTN TWY Q AND TWY L CLSD \n",
      " TAXIWAY C BETWEEN TAXIWAY Q AND TAXIWAY L CLOSED \n",
      "\n",
      "ALS RWY 10 U/S. \n",
      " ALS <runway> UNSERVICEABLE  \n",
      "\n",
      "RWY 31 5/5/5 100 PCT WET  OBS AT 1806302226. \n",
      " <runway> <number> <number> <number> <number> PCT WET  OBS AT <number>  \n",
      "\n",
      "RWY 18 5/5/5 100 PCT WET OBS AT 1806302225. \n",
      " <runway> <number> <number> <number> <number> PCT WET OBS AT <number>  \n",
      "\n",
      "APRON ALL WET OBS AT 1806302223. \n",
      " APRON ALL WET OBS AT <number>  \n",
      "\n",
      "TWY L BTN TWY F AND TWY E CLSD \n",
      " TAXIWAY L BETWEEN TAXIWAY F AND TAXIWAY E CLOSED \n",
      "\n",
      "ACT MIL AREA MMR-413 \n",
      " ACTIVE MILITARY AREA MMR <number> \n",
      "\n",
      "TWY ALL WET OBS AT 1806302222. \n",
      " TAXIWAY ALL WET OBS AT <number>  \n",
      "\n",
      "RFFS EXTD OPS HR \n",
      " RFFS EXTD OPERATIONS HR \n",
      "\n",
      "RWY 05 5/5/5 100 PCT WET  OBS AT 1806302221. \n",
      " <runway> <number> <number> <number> <number> PCT WET  OBS AT <number>  \n",
      "\n",
      "RWY 32 5/5/5 100 PCT WET OBS AT 1806302220. \n",
      " <runway> <number> <number> <number> <number> PCT WET OBS AT <number>  \n",
      "\n",
      "ACT MIL AREA MMR-412 \n",
      " ACTIVE MILITARY AREA MMR <number> \n",
      "\n",
      "(TDM TRK K 180701050001  1807010500 1807012100  DINTY CUNDU 33N140W 33N150W 32N160W 29N170W 28N180E 27N170E  26N160E 25N150E 24N140E TUNTO  RTS/KLAX DINTY  TUNTO R595 SEDKU  TUNTO IGURU  TUNTO GUMBO  RMK/NO TRK ADVISORY FOR TRK K TONIGHT  ALTITUDE MAY BE RESTRICTED WHILE CROSSING ATS ROUTES \n",
      "  TDM TRK K <number>  <number> <number>  DINTY CUNDU <coordinate> <coordinate> <coordinate> <coordinate> <coordinate> <coordinate>  <coordinate> <coordinate> <coordinate> TUNTO  RTS KLAX DINTY  TUNTO R<number> SEDKU  TUNTO IGURU  TUNTO GUMBO  REMARK NO TRK ADVISORY FOR TRK K TONIGHT  ALTITUDE MAY BE RESTRICTED WHILE CROSSING ATS ROUTES \n",
      "\n",
      "(TDM TRK J 180701050001  1807010500 1807012100  BOXER KYLLE KANUA KURTT KATCH LOHNE ARCAL 59N160W ONEOX NULUK  NANDY NATES NIKLL NYMPH NUZAN NIPPI  RTS/KSFO GNNRR STINS AMAKR BOXER  KLAX MCKEY LIBBO BRINY BOARS BOXER  NIPPI R220 NANAC  RMK/NO TRK ADVISORY FOR TRK J TONIGHT \n",
      "  TDM TRK J <number>  <number> <number>  BOXER KYLLE KANUA KURTT KATCH LOHNE ARCAL <coordinate> ONEOX NULUK  NANDY NATES NIKLL NYMPH NUZAN NIPPI  RTS KSFO GNNRR STINS AMAKR BOXER  KLAX MCKEY LIBBO BRINY BOARS BOXER  NIPPI R<number> NANAC  REMARK NO TRK ADVISORY FOR TRK J TONIGHT \n",
      "\n",
      "(TDM TRK 8 180701070001  1807010700 1807012100  KALNA 43N160E 45N170E 48N180E 50N170W 52N160W 53N150W 52N140W  MANJO  RTS/ONION OTR5 KALNA  MANJO NAKBI EPTIV UPR KDFW  RMK/0 \n",
      "  TDM TRK <number> <number>  <number> <number>  KALNA <coordinate> <coordinate> <coordinate> <coordinate> <coordinate> <coordinate> <coordinate>  MANJO  RTS ONION OTR<number> KALNA  MANJO NAKBI EPTIV UPR KDFW  REMARK <number> \n",
      "\n",
      "SELCAL FREQ 10024 KHZ U/S \n",
      " SELCAL FREQUENCY <frequency> UNSERVICEABLE \n",
      "\n"
     ]
    }
   ],
   "source": [
    "for i in range(100, 120):\n",
    "    print(df.iloc[i]['text'], '\\n', df.iloc[i]['text_azureml'], '\\n')"
   ]
  },
  {
   "cell_type": "code",
   "execution_count": 228,
   "metadata": {},
   "outputs": [],
   "source": [
    "reload(cleaning)\n",
    "\n",
    "cleaner.split()\n",
    "\n",
    "#NOTAM_cleaning.extract_"
   ]
  },
  {
   "cell_type": "code",
   "execution_count": 229,
   "metadata": {},
   "outputs": [
    {
     "name": "stdout",
     "output_type": "stream",
     "text": [
      "0\n"
     ]
    }
   ],
   "source": [
    "reload(cleaning)\n",
    "\n",
    "bad = cleaner.get_df()['text'] == None\n",
    "\n",
    "#cleaner.get_df()['text'][1000:1100]\n",
    "\n",
    "\n",
    "print(sum(bad))\n",
    "#cleaner.get_df()[bad]"
   ]
  },
  {
   "cell_type": "code",
   "execution_count": null,
   "metadata": {},
   "outputs": [],
   "source": []
  },
  {
   "cell_type": "code",
   "execution_count": 192,
   "metadata": {},
   "outputs": [
    {
     "name": "stdout",
     "output_type": "stream",
     "text": [
      "ACT MIL AREAS MMR-116, MMR-117 AND MMR-119 \n"
     ]
    }
   ],
   "source": [
    "NOTAM = txt.values[0]\n",
    "#print(NOTAM)\n",
    "\n",
    "#m = re.search('[E-G]\\)', NOTAM)\n",
    "\n",
    "\n",
    "m = re.split('[E-G]\\)', NOTAM)\n",
    "\n",
    "\n",
    "#[(m.start(0), m.end(0)) for m in re.finditer(pattern, string)]\n",
    "\n",
    "#m = re.findall('[Q\\)|[A-G]\\)', NOTAM)\n",
    "print(m[1])\n",
    "\n",
    "#NOTAM.split('Q\\)|[A-G]\\)')"
   ]
  },
  {
   "cell_type": "code",
   "execution_count": 97,
   "metadata": {},
   "outputs": [],
   "source": [
    "txt_df = pd.DataFrame(txt).rename(columns={'fulltext':'text'})"
   ]
  },
  {
   "cell_type": "code",
   "execution_count": 98,
   "metadata": {},
   "outputs": [
    {
     "name": "stdout",
     "output_type": "stream",
     "text": [
      "A3657/18 NOTAMN Q)LTXX/QWELW/IV/BO/W/300/300/3647N02948E042 A)LTAA LTBB B)1807010700 C)1807011530 E)AIRBORNE WARNING AND CONTROL SYSTEM FLIGHT WILL TAKE PLACE. AREA:362500N0303000E 362500N0290500E 371000N0290500E 371000N0303000E F)30000FT AMSL G)30000FT AMSL\n"
     ]
    }
   ],
   "source": [
    "print(txt_df.iloc[1]['text'])"
   ]
  },
  {
   "cell_type": "code",
   "execution_count": 99,
   "metadata": {},
   "outputs": [
    {
     "name": "stdout",
     "output_type": "stream",
     "text": [
      "A<number> <number> NOTAMN Q LTXX QWELW IV BO W <number> <number> <coordinate><number> A LTAA LTBB B <number> C <number> E AIRBORNE WARNING AND CONTROL SYSTEM FLIGHT WILL TAKE PLACE  AREA <coordinate> <coordinate> <coordinate> <coordinate> F <height> G <height>\n"
     ]
    }
   ],
   "source": [
    "%timeit \n",
    "res = text_processing.azureml_main(txt_df)\n",
    "print(txt_df.iloc[1]['text'])"
   ]
  },
  {
   "cell_type": "code",
   "execution_count": 91,
   "metadata": {},
   "outputs": [
    {
     "name": "stdout",
     "output_type": "stream",
     "text": [
      "['A<NUMBER> <NUMBER> NOTAMN Q EDWW QFALC IV NBO A <NUMBER> <NUMBER> <COORDINATE><NUMBER> A EDDH B <NUMBER> C <NUMBER> E AERODROME CLOSED EXCEPT HELIPADS '] A<NUMBER> <NUMBER> NOTAMN Q EDWW QFALC IV NBO A <NUMBER> <NUMBER> <COORDINATE><NUMBER> A EDDH B <NUMBER> C <NUMBER> E AERODROME CLOSED EXCEPT HELIPADS \n"
     ]
    }
   ],
   "source": [
    "#for i in range(10):\n",
    "#    print(res[i].values)\n",
    "\n",
    "print(res[0].values[4], txt_df.iloc[4]['text'])"
   ]
  }
 ],
 "metadata": {
  "kernelspec": {
   "display_name": "Python 3",
   "language": "python",
   "name": "python3"
  },
  "language_info": {
   "codemirror_mode": {
    "name": "ipython",
    "version": 3
   },
   "file_extension": ".py",
   "mimetype": "text/x-python",
   "name": "python",
   "nbconvert_exporter": "python",
   "pygments_lexer": "ipython3",
   "version": "3.5.5"
  }
 },
 "nbformat": 4,
 "nbformat_minor": 2
}
