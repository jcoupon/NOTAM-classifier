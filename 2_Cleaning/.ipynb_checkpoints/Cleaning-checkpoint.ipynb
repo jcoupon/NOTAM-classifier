{
 "cells": [
  {
   "cell_type": "markdown",
   "metadata": {},
   "source": [
    "# Cleaning\n",
    "\n",
    "This notebook tests and describes the procedures for cleaning the NOTAMs."
   ]
  },
  {
   "cell_type": "markdown",
   "metadata": {},
   "source": [
    "## Preamble"
   ]
  },
  {
   "cell_type": "code",
   "execution_count": 33,
   "metadata": {},
   "outputs": [],
   "source": [
    "# load basic libraries\n",
    "import numpy as np\n",
    "import os\n",
    "import sys\n",
    "import re\n",
    "import pandas as pd\n",
    "from importlib import reload\n",
    "\n",
    "# add ./python to python path\n",
    "sys.path.insert(0, '../python')\n",
    "\n",
    "# load local libraries\n",
    "import cleaning\n",
    "import text_processing"
   ]
  },
  {
   "cell_type": "markdown",
   "metadata": {},
   "source": [
    "## Options"
   ]
  },
  {
   "cell_type": "code",
   "execution_count": 11,
   "metadata": {},
   "outputs": [],
   "source": [
    "# options\n",
    "data_dir = '../0_data'"
   ]
  },
  {
   "cell_type": "markdown",
   "metadata": {},
   "source": [
    "## Data cleaning"
   ]
  },
  {
   "cell_type": "code",
   "execution_count": 314,
   "metadata": {},
   "outputs": [
    {
     "name": "stdout",
     "output_type": "stream",
     "text": [
      "Read 98547 NOTAMs\n"
     ]
    }
   ],
   "source": [
    "reload(cleaning)\n",
    "\n",
    "# create cleaner object\n",
    "cleaner = cleaning.Cleaning()\n",
    "\n",
    "# read the data\n",
    "cleaner.read(data_dir+'/23-08-2018/Export.txt')\n",
    "print('Read {} NOTAMs'.format(cleaner.N))\n",
    "\n",
    "# split the NOTAM into items\n",
    "cleaner.split()"
   ]
  },
  {
   "cell_type": "code",
   "execution_count": 315,
   "metadata": {},
   "outputs": [],
   "source": [
    "# get the data frame\n",
    "df = cleaner.get_df()"
   ]
  },
  {
   "cell_type": "code",
   "execution_count": 316,
   "metadata": {},
   "outputs": [
    {
     "name": "stdout",
     "output_type": "stream",
     "text": [
      "458\n"
     ]
    }
   ],
   "source": [
    "# number of None entries \n",
    "print(sum(df['text'].values == None))"
   ]
  },
  {
   "cell_type": "code",
   "execution_count": 331,
   "metadata": {},
   "outputs": [
    {
     "ename": "SyntaxError",
     "evalue": "invalid syntax (<ipython-input-331-af8717f7c57e>, line 1)",
     "output_type": "error",
     "traceback": [
      "\u001b[0;36m  File \u001b[0;32m\"<ipython-input-331-af8717f7c57e>\"\u001b[0;36m, line \u001b[0;32m1\u001b[0m\n\u001b[0;31m    df['text'].apply(x:x.upper())\u001b[0m\n\u001b[0m                      ^\u001b[0m\n\u001b[0;31mSyntaxError\u001b[0m\u001b[0;31m:\u001b[0m invalid syntax\n"
     ]
    }
   ],
   "source": [
    "df['text'].apply(lambda x:x.upper())\n",
    "\n",
    "#print(df['text'].values[0].upper())\n",
    "#df['fulltext'][select].values\n",
    "\n",
    "\n",
    "#txt_df = pd.DataFrame(df['text']) #.rename(columns={'fulltext':'text'})\n",
    "\n",
    "#reload(text_processing)\n",
    "#text_processing.azureml_main(df)\n",
    "\n",
    "    "
   ]
  },
  {
   "cell_type": "code",
   "execution_count": 228,
   "metadata": {},
   "outputs": [],
   "source": [
    "reload(cleaning)\n",
    "\n",
    "cleaner.split()\n",
    "\n",
    "#NOTAM_cleaning.extract_"
   ]
  },
  {
   "cell_type": "code",
   "execution_count": 229,
   "metadata": {},
   "outputs": [
    {
     "name": "stdout",
     "output_type": "stream",
     "text": [
      "0\n"
     ]
    }
   ],
   "source": [
    "reload(cleaning)\n",
    "\n",
    "bad = cleaner.get_df()['text'] == None\n",
    "\n",
    "#cleaner.get_df()['text'][1000:1100]\n",
    "\n",
    "\n",
    "print(sum(bad))\n",
    "#cleaner.get_df()[bad]"
   ]
  },
  {
   "cell_type": "code",
   "execution_count": null,
   "metadata": {},
   "outputs": [],
   "source": []
  },
  {
   "cell_type": "code",
   "execution_count": 192,
   "metadata": {},
   "outputs": [
    {
     "name": "stdout",
     "output_type": "stream",
     "text": [
      "ACT MIL AREAS MMR-116, MMR-117 AND MMR-119 \n"
     ]
    }
   ],
   "source": [
    "NOTAM = txt.values[0]\n",
    "#print(NOTAM)\n",
    "\n",
    "#m = re.search('[E-G]\\)', NOTAM)\n",
    "\n",
    "\n",
    "m = re.split('[E-G]\\)', NOTAM)\n",
    "\n",
    "\n",
    "#[(m.start(0), m.end(0)) for m in re.finditer(pattern, string)]\n",
    "\n",
    "#m = re.findall('[Q\\)|[A-G]\\)', NOTAM)\n",
    "print(m[1])\n",
    "\n",
    "#NOTAM.split('Q\\)|[A-G]\\)')"
   ]
  },
  {
   "cell_type": "code",
   "execution_count": 97,
   "metadata": {},
   "outputs": [],
   "source": [
    "txt_df = pd.DataFrame(txt).rename(columns={'fulltext':'text'})"
   ]
  },
  {
   "cell_type": "code",
   "execution_count": 98,
   "metadata": {},
   "outputs": [
    {
     "name": "stdout",
     "output_type": "stream",
     "text": [
      "A3657/18 NOTAMN Q)LTXX/QWELW/IV/BO/W/300/300/3647N02948E042 A)LTAA LTBB B)1807010700 C)1807011530 E)AIRBORNE WARNING AND CONTROL SYSTEM FLIGHT WILL TAKE PLACE. AREA:362500N0303000E 362500N0290500E 371000N0290500E 371000N0303000E F)30000FT AMSL G)30000FT AMSL\n"
     ]
    }
   ],
   "source": [
    "print(txt_df.iloc[1]['text'])"
   ]
  },
  {
   "cell_type": "code",
   "execution_count": 99,
   "metadata": {},
   "outputs": [
    {
     "name": "stdout",
     "output_type": "stream",
     "text": [
      "A<number> <number> NOTAMN Q LTXX QWELW IV BO W <number> <number> <coordinate><number> A LTAA LTBB B <number> C <number> E AIRBORNE WARNING AND CONTROL SYSTEM FLIGHT WILL TAKE PLACE  AREA <coordinate> <coordinate> <coordinate> <coordinate> F <height> G <height>\n"
     ]
    }
   ],
   "source": [
    "%timeit \n",
    "res = text_processing.azureml_main(txt_df)\n",
    "print(txt_df.iloc[1]['text'])"
   ]
  },
  {
   "cell_type": "code",
   "execution_count": 91,
   "metadata": {},
   "outputs": [
    {
     "name": "stdout",
     "output_type": "stream",
     "text": [
      "['A<NUMBER> <NUMBER> NOTAMN Q EDWW QFALC IV NBO A <NUMBER> <NUMBER> <COORDINATE><NUMBER> A EDDH B <NUMBER> C <NUMBER> E AERODROME CLOSED EXCEPT HELIPADS '] A<NUMBER> <NUMBER> NOTAMN Q EDWW QFALC IV NBO A <NUMBER> <NUMBER> <COORDINATE><NUMBER> A EDDH B <NUMBER> C <NUMBER> E AERODROME CLOSED EXCEPT HELIPADS \n"
     ]
    }
   ],
   "source": [
    "#for i in range(10):\n",
    "#    print(res[i].values)\n",
    "\n",
    "print(res[0].values[4], txt_df.iloc[4]['text'])"
   ]
  }
 ],
 "metadata": {
  "kernelspec": {
   "display_name": "Python 3",
   "language": "python",
   "name": "python3"
  },
  "language_info": {
   "codemirror_mode": {
    "name": "ipython",
    "version": 3
   },
   "file_extension": ".py",
   "mimetype": "text/x-python",
   "name": "python",
   "nbconvert_exporter": "python",
   "pygments_lexer": "ipython3",
   "version": "3.5.5"
  }
 },
 "nbformat": 4,
 "nbformat_minor": 2
}
