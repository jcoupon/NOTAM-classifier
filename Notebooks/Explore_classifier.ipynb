{
 "cells": [
  {
   "cell_type": "code",
   "execution_count": 31,
   "metadata": {},
   "outputs": [],
   "source": [
    " # import all the necessary libraries\n",
    "import os\n",
    "import re\n",
    "import pandas as pd\n",
    "import numpy as np\n",
    "\n",
    "import matplotlib\n",
    "%matplotlib inline\n",
    "import matplotlib.pyplot as plt\n",
    "import seaborn as sns\n",
    "\n",
    "from datetime import datetime, timedelta\n",
    "\n",
    "import cartopy.crs as ccrs\n",
    "\n",
    "from sklearn import datasets\n",
    "from sklearn import preprocessing\n",
    "from sklearn import model_selection\n",
    "from sklearn.metrics import confusion_matrix, accuracy_score\n",
    "from sklearn import metrics\n",
    "from sklearn.linear_model import LogisticRegression\n",
    "from sklearn.ensemble import RandomForestClassifier, AdaBoostClassifier, GradientBoostingClassifier\n",
    "from sklearn.neural_network import MLPClassifier\n",
    "from sklearn.naive_bayes import GaussianNB, BernoulliNB, MultinomialNB\n",
    "from sklearn import discriminant_analysis\n",
    "from sklearn import svm\n",
    "\n",
    "# options\n",
    "data_dir = os.getenv(\"HOME\")+'/data/NOTAM-classifier'\n",
    "pd.set_option('display.max_columns', 500)\n",
    "\n",
    "# aestetics\n",
    "plt.style.use('seaborn-whitegrid')\n",
    "plt.rc('pdf',fonttype=42)\n",
    "sns.mpl.rc('figure', figsize = (10, 8))\n",
    "sns.set_context('notebook', font_scale=1.8, rc={'lines.linewidth': 2.5})"
   ]
  },
  {
   "cell_type": "markdown",
   "metadata": {},
   "source": [
    "# File contents"
   ]
  },
  {
   "cell_type": "code",
   "execution_count": 35,
   "metadata": {},
   "outputs": [],
   "source": [
    "NOTAMs_df = pd.read_csv(data_dir+'/NOTAMS.csv', sep=',').set_index('id')\n",
    "\n",
    "select = NOTAMs_df['rvid'] > 1\n",
    "NOTAMs_df = NOTAMs_df[select]"
   ]
  },
  {
   "cell_type": "code",
   "execution_count": 36,
   "metadata": {},
   "outputs": [
    {
     "name": "stdout",
     "output_type": "stream",
     "text": [
      "75159\n"
     ]
    }
   ],
   "source": [
    "print(len(NOTAMs_df))"
   ]
  },
  {
   "cell_type": "markdown",
   "metadata": {},
   "source": [
    "## Header"
   ]
  },
  {
   "cell_type": "code",
   "execution_count": 37,
   "metadata": {
    "scrolled": false
   },
   "outputs": [
    {
     "data": {
      "text/html": [
       "<div>\n",
       "<style scoped>\n",
       "    .dataframe tbody tr th:only-of-type {\n",
       "        vertical-align: middle;\n",
       "    }\n",
       "\n",
       "    .dataframe tbody tr th {\n",
       "        vertical-align: top;\n",
       "    }\n",
       "\n",
       "    .dataframe thead th {\n",
       "        text-align: right;\n",
       "    }\n",
       "</style>\n",
       "<table border=\"1\" class=\"dataframe\">\n",
       "  <thead>\n",
       "    <tr style=\"text-align: right;\">\n",
       "      <th></th>\n",
       "      <th>good</th>\n",
       "      <th>txt</th>\n",
       "      <th>supress</th>\n",
       "      <th>rvid</th>\n",
       "      <th>scope</th>\n",
       "      <th>FIR_12</th>\n",
       "      <th>high_min_alt</th>\n",
       "      <th>low_max_alt</th>\n",
       "      <th>diurnal_duration</th>\n",
       "      <th>long_text</th>\n",
       "      <th>small_radius</th>\n",
       "      <th>trafficind</th>\n",
       "      <th>code_23</th>\n",
       "      <th>n_locations</th>\n",
       "      <th>code_45</th>\n",
       "    </tr>\n",
       "    <tr>\n",
       "      <th>id</th>\n",
       "      <th></th>\n",
       "      <th></th>\n",
       "      <th></th>\n",
       "      <th></th>\n",
       "      <th></th>\n",
       "      <th></th>\n",
       "      <th></th>\n",
       "      <th></th>\n",
       "      <th></th>\n",
       "      <th></th>\n",
       "      <th></th>\n",
       "      <th></th>\n",
       "      <th></th>\n",
       "      <th></th>\n",
       "      <th></th>\n",
       "    </tr>\n",
       "  </thead>\n",
       "  <tbody>\n",
       "    <tr>\n",
       "      <th>A3621/18</th>\n",
       "      <td>True</td>\n",
       "      <td>ACT MIL AREAS MMR-116, MMR-117 AND MMR-119</td>\n",
       "      <td>0</td>\n",
       "      <td>1698</td>\n",
       "      <td>W</td>\n",
       "      <td>MM</td>\n",
       "      <td>False</td>\n",
       "      <td>True</td>\n",
       "      <td>False</td>\n",
       "      <td>False</td>\n",
       "      <td>False</td>\n",
       "      <td>IV</td>\n",
       "      <td>RR</td>\n",
       "      <td>1.0</td>\n",
       "      <td>CA</td>\n",
       "    </tr>\n",
       "    <tr>\n",
       "      <th>A3657/18</th>\n",
       "      <td>True</td>\n",
       "      <td>AIRBORNE WARNING AND CONTROL SYSTEM FLIGHT WIL...</td>\n",
       "      <td>1</td>\n",
       "      <td>1698</td>\n",
       "      <td>W</td>\n",
       "      <td>LT</td>\n",
       "      <td>True</td>\n",
       "      <td>False</td>\n",
       "      <td>False</td>\n",
       "      <td>True</td>\n",
       "      <td>False</td>\n",
       "      <td>IV</td>\n",
       "      <td>WE</td>\n",
       "      <td>2.0</td>\n",
       "      <td>LW</td>\n",
       "    </tr>\n",
       "    <tr>\n",
       "      <th>A3620/18</th>\n",
       "      <td>True</td>\n",
       "      <td>RESTRICTED AREA     LATERAL LIMIT: CIRCLE OF 2...</td>\n",
       "      <td>1</td>\n",
       "      <td>1503</td>\n",
       "      <td>W</td>\n",
       "      <td>MM</td>\n",
       "      <td>False</td>\n",
       "      <td>True</td>\n",
       "      <td>False</td>\n",
       "      <td>True</td>\n",
       "      <td>True</td>\n",
       "      <td>IV</td>\n",
       "      <td>RR</td>\n",
       "      <td>1.0</td>\n",
       "      <td>CA</td>\n",
       "    </tr>\n",
       "    <tr>\n",
       "      <th>A3566/18</th>\n",
       "      <td>True</td>\n",
       "      <td>AERODROME CLSD EXCEPT HELIPADS</td>\n",
       "      <td>0</td>\n",
       "      <td>1598</td>\n",
       "      <td>A</td>\n",
       "      <td>ED</td>\n",
       "      <td>False</td>\n",
       "      <td>False</td>\n",
       "      <td>False</td>\n",
       "      <td>False</td>\n",
       "      <td>False</td>\n",
       "      <td>IV</td>\n",
       "      <td>FA</td>\n",
       "      <td>1.0</td>\n",
       "      <td>LC</td>\n",
       "    </tr>\n",
       "    <tr>\n",
       "      <th>A3478/18</th>\n",
       "      <td>True</td>\n",
       "      <td>RWY 16R/34L CLS</td>\n",
       "      <td>0</td>\n",
       "      <td>1598</td>\n",
       "      <td>A</td>\n",
       "      <td>KZ</td>\n",
       "      <td>False</td>\n",
       "      <td>False</td>\n",
       "      <td>False</td>\n",
       "      <td>False</td>\n",
       "      <td>False</td>\n",
       "      <td>IV</td>\n",
       "      <td>MR</td>\n",
       "      <td>1.0</td>\n",
       "      <td>LC</td>\n",
       "    </tr>\n",
       "    <tr>\n",
       "      <th>B1780/18</th>\n",
       "      <td>True</td>\n",
       "      <td>AREA SPECIFIED AS BELOW PROHIBITED FOR IFR/VFR...</td>\n",
       "      <td>1</td>\n",
       "      <td>1698</td>\n",
       "      <td>W</td>\n",
       "      <td>LT</td>\n",
       "      <td>False</td>\n",
       "      <td>True</td>\n",
       "      <td>False</td>\n",
       "      <td>True</td>\n",
       "      <td>False</td>\n",
       "      <td>IV</td>\n",
       "      <td>RT</td>\n",
       "      <td>1.0</td>\n",
       "      <td>LP</td>\n",
       "    </tr>\n",
       "    <tr>\n",
       "      <th>E4203/18</th>\n",
       "      <td>True</td>\n",
       "      <td>TWY E(BTN E8 AND J) E9-CLSD DUE TO CONS</td>\n",
       "      <td>0</td>\n",
       "      <td>1698</td>\n",
       "      <td>A</td>\n",
       "      <td>RJ</td>\n",
       "      <td>False</td>\n",
       "      <td>False</td>\n",
       "      <td>True</td>\n",
       "      <td>False</td>\n",
       "      <td>False</td>\n",
       "      <td>IV</td>\n",
       "      <td>MX</td>\n",
       "      <td>1.0</td>\n",
       "      <td>LC</td>\n",
       "    </tr>\n",
       "    <tr>\n",
       "      <th>F1751/18</th>\n",
       "      <td>True</td>\n",
       "      <td>UA (25KG) OPR PSN S33 40.2 E150 51.2 (RIVERSTO...</td>\n",
       "      <td>1</td>\n",
       "      <td>1698</td>\n",
       "      <td>AW</td>\n",
       "      <td>YM</td>\n",
       "      <td>False</td>\n",
       "      <td>True</td>\n",
       "      <td>True</td>\n",
       "      <td>True</td>\n",
       "      <td>True</td>\n",
       "      <td>IV</td>\n",
       "      <td>WU</td>\n",
       "      <td>1.0</td>\n",
       "      <td>LW</td>\n",
       "    </tr>\n",
       "    <tr>\n",
       "      <th>C1957/18</th>\n",
       "      <td>True</td>\n",
       "      <td>IAC1 ILS Z RWY05 NO AVBL DEBIDO A GP U/</td>\n",
       "      <td>1</td>\n",
       "      <td>1503</td>\n",
       "      <td>A</td>\n",
       "      <td>SC</td>\n",
       "      <td>False</td>\n",
       "      <td>False</td>\n",
       "      <td>False</td>\n",
       "      <td>False</td>\n",
       "      <td>False</td>\n",
       "      <td>I</td>\n",
       "      <td>PI</td>\n",
       "      <td>1.0</td>\n",
       "      <td>AU</td>\n",
       "    </tr>\n",
       "    <tr>\n",
       "      <th>A2850/18</th>\n",
       "      <td>True</td>\n",
       "      <td>RFFS OPS HR DLY BTN 1030-030</td>\n",
       "      <td>0</td>\n",
       "      <td>1698</td>\n",
       "      <td>A</td>\n",
       "      <td>SP</td>\n",
       "      <td>False</td>\n",
       "      <td>False</td>\n",
       "      <td>False</td>\n",
       "      <td>False</td>\n",
       "      <td>False</td>\n",
       "      <td>IV</td>\n",
       "      <td>FF</td>\n",
       "      <td>1.0</td>\n",
       "      <td>AH</td>\n",
       "    </tr>\n",
       "  </tbody>\n",
       "</table>\n",
       "</div>"
      ],
      "text/plain": [
       "          good                                                txt  supress  \\\n",
       "id                                                                           \n",
       "A3621/18  True        ACT MIL AREAS MMR-116, MMR-117 AND MMR-119         0   \n",
       "A3657/18  True  AIRBORNE WARNING AND CONTROL SYSTEM FLIGHT WIL...        1   \n",
       "A3620/18  True  RESTRICTED AREA     LATERAL LIMIT: CIRCLE OF 2...        1   \n",
       "A3566/18  True                     AERODROME CLSD EXCEPT HELIPADS        0   \n",
       "A3478/18  True                                    RWY 16R/34L CLS        0   \n",
       "B1780/18  True  AREA SPECIFIED AS BELOW PROHIBITED FOR IFR/VFR...        1   \n",
       "E4203/18  True            TWY E(BTN E8 AND J) E9-CLSD DUE TO CONS        0   \n",
       "F1751/18  True  UA (25KG) OPR PSN S33 40.2 E150 51.2 (RIVERSTO...        1   \n",
       "C1957/18  True            IAC1 ILS Z RWY05 NO AVBL DEBIDO A GP U/        1   \n",
       "A2850/18  True                       RFFS OPS HR DLY BTN 1030-030        0   \n",
       "\n",
       "          rvid scope FIR_12  high_min_alt  low_max_alt diurnal_duration  \\\n",
       "id                                                                        \n",
       "A3621/18  1698     W     MM         False         True            False   \n",
       "A3657/18  1698     W     LT          True        False            False   \n",
       "A3620/18  1503     W     MM         False         True            False   \n",
       "A3566/18  1598     A     ED         False        False            False   \n",
       "A3478/18  1598     A     KZ         False        False            False   \n",
       "B1780/18  1698     W     LT         False         True            False   \n",
       "E4203/18  1698     A     RJ         False        False             True   \n",
       "F1751/18  1698    AW     YM         False         True             True   \n",
       "C1957/18  1503     A     SC         False        False            False   \n",
       "A2850/18  1698     A     SP         False        False            False   \n",
       "\n",
       "          long_text  small_radius trafficind code_23  n_locations code_45  \n",
       "id                                                                         \n",
       "A3621/18      False         False         IV      RR          1.0      CA  \n",
       "A3657/18       True         False         IV      WE          2.0      LW  \n",
       "A3620/18       True          True         IV      RR          1.0      CA  \n",
       "A3566/18      False         False         IV      FA          1.0      LC  \n",
       "A3478/18      False         False         IV      MR          1.0      LC  \n",
       "B1780/18       True         False         IV      RT          1.0      LP  \n",
       "E4203/18      False         False         IV      MX          1.0      LC  \n",
       "F1751/18       True          True         IV      WU          1.0      LW  \n",
       "C1957/18      False         False          I      PI          1.0      AU  \n",
       "A2850/18      False         False         IV      FF          1.0      AH  "
      ]
     },
     "execution_count": 37,
     "metadata": {},
     "output_type": "execute_result"
    }
   ],
   "source": [
    "NOTAMs_df.head(10)"
   ]
  },
  {
   "cell_type": "code",
   "execution_count": 38,
   "metadata": {},
   "outputs": [],
   "source": [
    "features = [\n",
    "    'scope', 'FIR_12', 'high_min_alt', \n",
    "    'low_max_alt', 'diurnal_duration', \n",
    "    'long_text', 'small_radius', \n",
    "    'trafficind', 'code_23', \n",
    "    'n_locations', 'code_45']"
   ]
  },
  {
   "cell_type": "code",
   "execution_count": 39,
   "metadata": {},
   "outputs": [
    {
     "name": "stdout",
     "output_type": "stream",
     "text": [
      "Encoding scope\n",
      "Encoding FIR_12\n",
      "Encoding high_min_alt\n",
      "Encoding low_max_alt\n",
      "Encoding diurnal_duration\n",
      "Encoding long_text\n",
      "Encoding small_radius\n",
      "Encoding trafficind\n",
      "Encoding code_23\n",
      "Encoding n_locations\n",
      "Encoding code_45\n"
     ]
    },
    {
     "data": {
      "text/plain": [
       "array([[  5.,  81.,   0., ..., 131.,   0.,  10.],\n",
       "       [  5.,  73.,   1., ..., 147.,   1.,  38.],\n",
       "       [  5.,  81.,   0., ..., 131.,   0.,  10.],\n",
       "       ...,\n",
       "       [  0.,  71.,   0., ...,  94.,   0.,  27.],\n",
       "       [  0., 163.,   0., ...,  89.,   0.,  40.],\n",
       "       [  0.,  54.,   0., ...,  94.,   0.,  23.]])"
      ]
     },
     "execution_count": 39,
     "metadata": {},
     "output_type": "execute_result"
    }
   ],
   "source": [
    "from sklearn import preprocessing\n",
    "\n",
    "n_samples = len(NOTAMs_df)\n",
    "n_features = len(features)\n",
    "X = np.zeros((n_samples, n_features))\n",
    "\n",
    "le = preprocessing.LabelEncoder()\n",
    "for i,feature in enumerate(features):\n",
    "    print('Encoding {}'.format(feature))    \n",
    "    X[:, i] = le.fit_transform(NOTAMs_df[feature].astype(str))\n",
    "\n",
    "y = NOTAMs_df['supress']\n",
    "\n",
    "X"
   ]
  },
  {
   "cell_type": "code",
   "execution_count": 40,
   "metadata": {},
   "outputs": [],
   "source": [
    "def classify(X, y, classifier, prob=None, random_seed=20091982):\n",
    "    \"\"\" Run classifier and print\n",
    "    results\n",
    "    \"\"\"\n",
    "    \n",
    "    X_train, X_test, y_train, y_test = \\\n",
    "    model_selection.train_test_split(\n",
    "        X, y, test_size=0.20, random_state=random_seed)\n",
    "    \n",
    "    classifier.fit(X_train, y_train)\n",
    "    if prob is not None:\n",
    "        y_pred = classifier.predict_proba(X_test)[:,0] < prob\n",
    "    else:\n",
    "        y_pred = classifier.predict(X_test)\n",
    "        \n",
    " \n",
    "    N = len(y_test)\n",
    "    TP = np.sum((y_pred == y_test) & (y_test == 1))\n",
    "    TN = np.sum((y_pred == y_test) & (y_test == 0))\n",
    "    FP = np.sum((y_pred != y_test) & (y_pred == 1))\n",
    "    FN = np.sum((y_pred != y_test) & (y_pred == 0))\n",
    "\n",
    "    accuracy = (TP+TN)/N\n",
    "    precision = TP/(TP+FP)\n",
    "    recall = TP/(TP+FN)\n",
    "\n",
    "    result_string = 'N={0}, TP={1}, TN={2}, FP={3}, FN={4}\\n'.format(N, TP, TN, FP, FN)\n",
    "    result_string += \\\n",
    "        'Precision: {0:.4f}, recall: {1:.4f}, accuracy: {2:.4f}'\\\n",
    "        .format(precision, recall, accuracy)\n",
    "\n",
    "    print(result_string)\n",
    "    \n",
    "    report = metrics.classification_report(y_test, y_pred)\n",
    "    \n",
    "    \n",
    "    print(report)\n",
    "    \n",
    "    return classifier\n",
    "\n",
    "def get_feature_importances(cols, importances):\n",
    "    \n",
    "    count = 0\n",
    "    indices = np.argsort(importances)[::-1]\n",
    "    for i in indices:\n",
    "        print('{1}: {0:.2f}%'.format(\n",
    "            importances[i]*100.0, cols[i]))\n",
    "        count += 1\n",
    "        #if count == 10:\n",
    "        #    break\n",
    "    return"
   ]
  },
  {
   "cell_type": "code",
   "execution_count": 41,
   "metadata": {},
   "outputs": [
    {
     "name": "stdout",
     "output_type": "stream",
     "text": [
      "N=15032, TP=5922, TN=7697, FP=671, FN=742\n",
      "Precision: 0.8982, recall: 0.8887, accuracy: 0.9060\n",
      "             precision    recall  f1-score   support\n",
      "\n",
      "          0       0.91      0.92      0.92      8368\n",
      "          1       0.90      0.89      0.89      6664\n",
      "\n",
      "avg / total       0.91      0.91      0.91     15032\n",
      "\n",
      "N=15032, TP=4714, TN=8282, FP=86, FN=1950\n",
      "Precision: 0.9821, recall: 0.7074, accuracy: 0.8646\n",
      "             precision    recall  f1-score   support\n",
      "\n",
      "          0       0.81      0.99      0.89      8368\n",
      "          1       0.98      0.71      0.82      6664\n",
      "\n",
      "avg / total       0.89      0.86      0.86     15032\n",
      "\n",
      "N=15032, TP=4063, TN=8320, FP=48, FN=2601\n",
      "Precision: 0.9883, recall: 0.6097, accuracy: 0.8238\n",
      "             precision    recall  f1-score   support\n",
      "\n",
      "          0       0.76      0.99      0.86      8368\n",
      "          1       0.99      0.61      0.75      6664\n",
      "\n",
      "avg / total       0.86      0.82      0.81     15032\n",
      "\n"
     ]
    }
   ],
   "source": [
    "classifier = classify(X, y, RandomForestClassifier(random_state=20091982), prob=0.5)\n",
    "\n",
    "# recall = 98%, reduce screened NOTAMs by 90%\n",
    "classifier = classify(X, y, RandomForestClassifier(random_state=20091982), prob=0.1)\n",
    "\n",
    "# recall = 99%, reduce screened NOTAMs by 80%\n",
    "classifier = classify(X, y, RandomForestClassifier(random_state=20091982), prob=0.001)"
   ]
  },
  {
   "cell_type": "markdown",
   "metadata": {},
   "source": [
    "## Features importances"
   ]
  },
  {
   "cell_type": "code",
   "execution_count": 52,
   "metadata": {},
   "outputs": [
    {
     "ename": "AttributeError",
     "evalue": "'MLPClassifier' object has no attribute 'feature_importances_'",
     "output_type": "error",
     "traceback": [
      "\u001b[0;31m---------------------------------------------------------------------------\u001b[0m",
      "\u001b[0;31mAttributeError\u001b[0m                            Traceback (most recent call last)",
      "\u001b[0;32m<ipython-input-52-f1b4b75191da>\u001b[0m in \u001b[0;36m<module>\u001b[0;34m()\u001b[0m\n\u001b[0;32m----> 1\u001b[0;31m \u001b[0mget_feature_importances\u001b[0m\u001b[0;34m(\u001b[0m\u001b[0mfeatures\u001b[0m\u001b[0;34m,\u001b[0m \u001b[0mclassifier\u001b[0m\u001b[0;34m.\u001b[0m\u001b[0mfeature_importances_\u001b[0m\u001b[0;34m)\u001b[0m\u001b[0;34m\u001b[0m\u001b[0m\n\u001b[0m",
      "\u001b[0;31mAttributeError\u001b[0m: 'MLPClassifier' object has no attribute 'feature_importances_'"
     ]
    }
   ],
   "source": [
    "get_feature_importances(features, classifier.feature_importances_)"
   ]
  },
  {
   "cell_type": "markdown",
   "metadata": {},
   "source": [
    "## One hot encoders"
   ]
  },
  {
   "cell_type": "code",
   "execution_count": 43,
   "metadata": {},
   "outputs": [
    {
     "data": {
      "text/plain": [
       "(75159, 415)"
      ]
     },
     "execution_count": 43,
     "metadata": {},
     "output_type": "execute_result"
    }
   ],
   "source": [
    "enc = preprocessing.OneHotEncoder()    \n",
    "X_one_hot = enc.fit_transform(X)\n",
    "\n",
    "X_one_hot.shape"
   ]
  },
  {
   "cell_type": "code",
   "execution_count": 44,
   "metadata": {},
   "outputs": [
    {
     "name": "stdout",
     "output_type": "stream",
     "text": [
      "N=15032, TP=4107, TN=8248, FP=120, FN=2557\n",
      "Precision: 0.9716, recall: 0.6163, accuracy: 0.8219\n",
      "             precision    recall  f1-score   support\n",
      "\n",
      "          0       0.76      0.99      0.86      8368\n",
      "          1       0.97      0.62      0.75      6664\n",
      "\n",
      "avg / total       0.86      0.82      0.81     15032\n",
      "\n"
     ]
    }
   ],
   "source": [
    "# essentially recall = 100%, reduce screened NOTAMs by 60%\n",
    "classifier = classify(X_one_hot, y, LogisticRegression(), prob=0.1)"
   ]
  },
  {
   "cell_type": "code",
   "execution_count": 45,
   "metadata": {},
   "outputs": [
    {
     "name": "stdout",
     "output_type": "stream",
     "text": [
      "N=15032, TP=1591, TN=8352, FP=16, FN=5073\n",
      "Precision: 0.9900, recall: 0.2387, accuracy: 0.6615\n",
      "             precision    recall  f1-score   support\n",
      "\n",
      "          0       0.62      1.00      0.77      8368\n",
      "          1       0.99      0.24      0.38      6664\n",
      "\n",
      "avg / total       0.79      0.66      0.60     15032\n",
      "\n"
     ]
    }
   ],
   "source": [
    "# some more test\n",
    "classifier = classify(X_one_hot, y, LogisticRegression(), prob=0.01)"
   ]
  },
  {
   "cell_type": "code",
   "execution_count": 46,
   "metadata": {},
   "outputs": [
    {
     "name": "stdout",
     "output_type": "stream",
     "text": [
      "N=15032, TP=6091, TN=7566, FP=802, FN=573\n",
      "Precision: 0.8837, recall: 0.9140, accuracy: 0.9085\n",
      "             precision    recall  f1-score   support\n",
      "\n",
      "          0       0.93      0.90      0.92      8368\n",
      "          1       0.88      0.91      0.90      6664\n",
      "\n",
      "avg / total       0.91      0.91      0.91     15032\n",
      "\n"
     ]
    }
   ],
   "source": [
    "classifier = classify(X_one_hot, y, MLPClassifier(), prob=0.5)"
   ]
  },
  {
   "cell_type": "code",
   "execution_count": 47,
   "metadata": {},
   "outputs": [
    {
     "name": "stdout",
     "output_type": "stream",
     "text": [
      "N=15032, TP=5922, TN=7697, FP=671, FN=742\n",
      "Precision: 0.8982, recall: 0.8887, accuracy: 0.9060\n",
      "             precision    recall  f1-score   support\n",
      "\n",
      "          0       0.91      0.92      0.92      8368\n",
      "          1       0.90      0.89      0.89      6664\n",
      "\n",
      "avg / total       0.91      0.91      0.91     15032\n",
      "\n",
      "N=15032, TP=5939, TN=7725, FP=643, FN=725\n",
      "Precision: 0.9023, recall: 0.8912, accuracy: 0.9090\n",
      "             precision    recall  f1-score   support\n",
      "\n",
      "          0       0.91      0.92      0.92      8368\n",
      "          1       0.90      0.89      0.90      6664\n",
      "\n",
      "avg / total       0.91      0.91      0.91     15032\n",
      "\n"
     ]
    }
   ],
   "source": [
    "classifier = classify(X, y, RandomForestClassifier(random_state=20091982), prob=0.5)\n",
    "classifier = classify(X_one_hot, y, RandomForestClassifier(random_state=20091982), prob=0.5)"
   ]
  },
  {
   "cell_type": "code",
   "execution_count": 48,
   "metadata": {
    "scrolled": true
   },
   "outputs": [
    {
     "name": "stdout",
     "output_type": "stream",
     "text": [
      "N=15032, TP=4127, TN=7756, FP=612, FN=2537\n",
      "Precision: 0.8709, recall: 0.6193, accuracy: 0.7905\n",
      "             precision    recall  f1-score   support\n",
      "\n",
      "          0       0.75      0.93      0.83      8368\n",
      "          1       0.87      0.62      0.72      6664\n",
      "\n",
      "avg / total       0.81      0.79      0.78     15032\n",
      "\n"
     ]
    }
   ],
   "source": [
    "classifier = classify(X_one_hot, y, BernoulliNB(), prob=0.01)"
   ]
  },
  {
   "cell_type": "code",
   "execution_count": 49,
   "metadata": {},
   "outputs": [
    {
     "name": "stdout",
     "output_type": "stream",
     "text": [
      "N=15032, TP=5748, TN=7738, FP=630, FN=916\n",
      "Precision: 0.9012, recall: 0.8625, accuracy: 0.8972\n",
      "             precision    recall  f1-score   support\n",
      "\n",
      "          0       0.89      0.92      0.91      8368\n",
      "          1       0.90      0.86      0.88      6664\n",
      "\n",
      "avg / total       0.90      0.90      0.90     15032\n",
      "\n"
     ]
    }
   ],
   "source": [
    "# classifier = classify(X, y, GradientBoostingClassifier(), prob=0.01)\n",
    "classifier = classify(X, y, svm.SVC(probability=False), prob=None)"
   ]
  },
  {
   "cell_type": "code",
   "execution_count": 50,
   "metadata": {},
   "outputs": [],
   "source": [
    "# Takes time to train\n",
    "# classifier = classify(X, y, svm.SVC())\n"
   ]
  },
  {
   "cell_type": "code",
   "execution_count": 51,
   "metadata": {},
   "outputs": [
    {
     "name": "stdout",
     "output_type": "stream",
     "text": [
      "Iteration 1, loss = 0.25088667\n",
      "Iteration 2, loss = 0.20333454\n",
      "Iteration 3, loss = 0.19151623\n",
      "Iteration 4, loss = 0.18229264\n",
      "Iteration 5, loss = 0.17718971\n",
      "Iteration 6, loss = 0.17389192\n",
      "Iteration 7, loss = 0.16981423\n",
      "Iteration 8, loss = 0.16785128\n",
      "Iteration 9, loss = 0.16587330\n",
      "Iteration 10, loss = 0.16414383\n",
      "Iteration 11, loss = 0.16233877\n",
      "Iteration 12, loss = 0.16088436\n",
      "Iteration 13, loss = 0.15942257\n",
      "Iteration 14, loss = 0.15894861\n",
      "Iteration 15, loss = 0.15779095\n",
      "Iteration 16, loss = 0.15674014\n",
      "Iteration 17, loss = 0.15748028\n",
      "Iteration 18, loss = 0.15509108\n",
      "Iteration 19, loss = 0.15526681\n",
      "Iteration 20, loss = 0.15392364\n",
      "Iteration 21, loss = 0.15446527\n",
      "Iteration 22, loss = 0.15360426\n",
      "Iteration 23, loss = 0.15298549\n",
      "Iteration 24, loss = 0.15218380\n",
      "Iteration 25, loss = 0.15174282\n",
      "Iteration 26, loss = 0.15199035\n",
      "Iteration 27, loss = 0.15172909\n",
      "Iteration 28, loss = 0.15066149\n",
      "Iteration 29, loss = 0.15151673\n",
      "Iteration 30, loss = 0.15149025\n",
      "Iteration 31, loss = 0.14990012\n",
      "Iteration 32, loss = 0.15113239\n",
      "Iteration 33, loss = 0.15010767\n",
      "Iteration 34, loss = 0.15075623\n",
      "Training loss did not improve more than tol=0.000100 for two consecutive epochs. Stopping.\n",
      "N=15032, TP=6040, TN=7627, FP=741, FN=624\n",
      "Precision: 0.8907, recall: 0.9064, accuracy: 0.9092\n",
      "             precision    recall  f1-score   support\n",
      "\n",
      "          0       0.92      0.91      0.92      8368\n",
      "          1       0.89      0.91      0.90      6664\n",
      "\n",
      "avg / total       0.91      0.91      0.91     15032\n",
      "\n"
     ]
    }
   ],
   "source": [
    "classifier = classify(\n",
    "    X_one_hot, y, \n",
    "    MLPClassifier(\n",
    "        hidden_layer_sizes=(200, 10), \n",
    "        learning_rate_init=0.01, \n",
    "        verbose=True), \n",
    "    prob=0.5)"
   ]
  },
  {
   "cell_type": "code",
   "execution_count": null,
   "metadata": {},
   "outputs": [],
   "source": []
  }
 ],
 "metadata": {
  "kernelspec": {
   "display_name": "Python 3",
   "language": "python",
   "name": "python3"
  },
  "language_info": {
   "codemirror_mode": {
    "name": "ipython",
    "version": 3
   },
   "file_extension": ".py",
   "mimetype": "text/x-python",
   "name": "python",
   "nbconvert_exporter": "python",
   "pygments_lexer": "ipython3",
   "version": "3.5.5"
  }
 },
 "nbformat": 4,
 "nbformat_minor": 2
}
